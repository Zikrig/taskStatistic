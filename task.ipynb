{
 "cells": [
  {
   "cell_type": "markdown",
   "metadata": {},
   "source": [
    "Подготовим данные.\n",
    "Импортируем библиотеку pandas для решения задачи.\n",
    "Подберем интересующие нас столбцы.\n",
    "В столбце group заменим строки на логические значения."
   ]
  },
  {
   "cell_type": "code",
   "execution_count": 1,
   "metadata": {},
   "outputs": [],
   "source": [
    "import pandas as pd\n",
    "\n",
    "after = pd.read_csv('student_after_score.csv', usecols=[1])\n",
    "before = pd.read_csv('student_before_score.csv', usecols=[1])\n",
    "group = pd.read_csv('student_group.csv', usecols=[1])\n",
    "\n",
    "mapping = {'course': True, 'no_course': False}\n",
    "group = group.replace({'group': mapping})"
   ]
  },
  {
   "cell_type": "markdown",
   "metadata": {},
   "source": [
    "Переберем все строки таблиц. Для каждого ученика получим его прогресс - разность данных до и после.\n",
    "Посчитаем средний прогресс для учеников в группе и без - разделив суммы на количества."
   ]
  },
  {
   "cell_type": "code",
   "execution_count": 4,
   "metadata": {},
   "outputs": [],
   "source": [
    "countOfPupils = 0\n",
    "withoutCourse = 0\n",
    "withCourse = 0\n",
    "for i in range(len(group)):\n",
    "    personProgress = after['after_score'][i]-before['before_score'][i]\n",
    "    if(group['group'][i]):\n",
    "        countOfPupils += 1\n",
    "        withCourse += personProgress\n",
    "    else:\n",
    "        withoutCourse += personProgress\n",
    "\n",
    "withCourse = float(withCourse / countOfPupils)\n",
    "withoutCourse = float(withoutCourse / (len(group) - countOfPupils))"
   ]
  },
  {
   "cell_type": "markdown",
   "metadata": {},
   "source": [
    "Выведем результат:"
   ]
  },
  {
   "cell_type": "code",
   "execution_count": 7,
   "metadata": {},
   
   "source": [
    "print(f'Средний прогресс составляет {withCourse} для учеников, которые были на курсах и {withoutCourse} для тех, кто не был')\n",
    "# Средний прогресс составляет 20.602459016393443 для учеников, которые были на курсах и 20.7890625 для тех, кто не был"
   ]
  },
  {
   "cell_type": "markdown",
   "metadata": {},
   "source": [
    "По результатам средний прогресс у учеников из группы и нет почти одинаков, а группа не дает никакого приимущества."
   ]
  }
 ],
 "metadata": {
  "kernelspec": {
   "display_name": "f",
   "language": "python",
   "name": "python3"
  },
  "language_info": {
   "codemirror_mode": {
    "name": "ipython",
    "version": 3
   },
   "file_extension": ".py",
   "mimetype": "text/x-python",
   "name": "python",
   "nbconvert_exporter": "python",
   "pygments_lexer": "ipython3",
   "version": "3.10.9"
  }
 },
 "nbformat": 4,
 "nbformat_minor": 2
}
